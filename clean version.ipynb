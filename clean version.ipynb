{
 "cells": [
  {
   "cell_type": "code",
   "execution_count": 49,
   "metadata": {},
   "outputs": [
    {
     "name": "stdout",
     "output_type": "stream",
     "text": [
      "[nltk_data] Downloading package stopwords to\n",
      "[nltk_data]     C:\\Users\\vishnu.raju\\AppData\\Roaming\\nltk_data...\n",
      "[nltk_data]   Package stopwords is already up-to-date!\n",
      "[nltk_data] Downloading package punkt to\n",
      "[nltk_data]     C:\\Users\\vishnu.raju\\AppData\\Roaming\\nltk_data...\n",
      "[nltk_data]   Package punkt is already up-to-date!\n"
     ]
    }
   ],
   "source": [
    "import pandas as pd\n",
    "from matplotlib import pyplot as plt\n",
    "import numpy as np\n",
    "import nltk\n",
    "import re\n",
    "import string\n",
    "from nltk.tokenize import word_tokenize, sent_tokenize\n",
    "from nltk.corpus import stopwords\n",
    "from nltk.stem import PorterStemmer\n",
    "from sklearn.preprocessing import LabelEncoder\n",
    "from sklearn.model_selection import train_test_split\n",
    "from sklearn.feature_extraction.text import CountVectorizer, TfidfVectorizer\n",
    "from sklearn.externals import joblib\n",
    "from Function_file import *"
   ]
  },
  {
   "cell_type": "code",
   "execution_count": 2,
   "metadata": {},
   "outputs": [
    {
     "name": "stdout",
     "output_type": "stream",
     "text": [
      "[nltk_data] Downloading package stopwords to\n",
      "[nltk_data]     C:\\Users\\vishnu.raju\\AppData\\Roaming\\nltk_data...\n",
      "[nltk_data]   Package stopwords is already up-to-date!\n",
      "[nltk_data] Downloading package punkt to\n",
      "[nltk_data]     C:\\Users\\vishnu.raju\\AppData\\Roaming\\nltk_data...\n",
      "[nltk_data]   Package punkt is already up-to-date!\n"
     ]
    },
    {
     "data": {
      "text/plain": [
       "True"
      ]
     },
     "execution_count": 2,
     "metadata": {},
     "output_type": "execute_result"
    }
   ],
   "source": [
    "nltk.download('stopwords')\n",
    "nltk.download('punkt')"
   ]
  },
  {
   "cell_type": "code",
   "execution_count": 17,
   "metadata": {},
   "outputs": [
    {
     "data": {
      "text/html": [
       "<div>\n",
       "<style scoped>\n",
       "    .dataframe tbody tr th:only-of-type {\n",
       "        vertical-align: middle;\n",
       "    }\n",
       "\n",
       "    .dataframe tbody tr th {\n",
       "        vertical-align: top;\n",
       "    }\n",
       "\n",
       "    .dataframe thead th {\n",
       "        text-align: right;\n",
       "    }\n",
       "</style>\n",
       "<table border=\"1\" class=\"dataframe\">\n",
       "  <thead>\n",
       "    <tr style=\"text-align: right;\">\n",
       "      <th></th>\n",
       "      <th>CATEGORY_ID</th>\n",
       "      <th>NAME</th>\n",
       "    </tr>\n",
       "  </thead>\n",
       "  <tbody>\n",
       "    <tr>\n",
       "      <th>0</th>\n",
       "      <td>102786</td>\n",
       "      <td>Document Binders</td>\n",
       "    </tr>\n",
       "    <tr>\n",
       "      <th>1</th>\n",
       "      <td>102787</td>\n",
       "      <td>Magnets</td>\n",
       "    </tr>\n",
       "    <tr>\n",
       "      <th>2</th>\n",
       "      <td>102788</td>\n",
       "      <td>Plasma</td>\n",
       "    </tr>\n",
       "    <tr>\n",
       "      <th>3</th>\n",
       "      <td>102789</td>\n",
       "      <td>Whole Blood</td>\n",
       "    </tr>\n",
       "    <tr>\n",
       "      <th>4</th>\n",
       "      <td>102790</td>\n",
       "      <td>Research Tissues, Organs and Glands</td>\n",
       "    </tr>\n",
       "  </tbody>\n",
       "</table>\n",
       "</div>"
      ],
      "text/plain": [
       "   CATEGORY_ID                                 NAME\n",
       "0       102786                     Document Binders\n",
       "1       102787                              Magnets\n",
       "2       102788                               Plasma\n",
       "3       102789                          Whole Blood\n",
       "4       102790  Research Tissues, Organs and Glands"
      ]
     },
     "execution_count": 17,
     "metadata": {},
     "output_type": "execute_result"
    }
   ],
   "source": [
    "#Data\n",
    "categories = pd.read_csv('Catagory.csv')\n",
    "categories = categories.loc[:,['ID','NAME']]\n",
    "categories.columns = ['CATEGORY_ID','NAME']\n",
    "categories.head()"
   ]
  },
  {
   "cell_type": "code",
   "execution_count": 18,
   "metadata": {},
   "outputs": [
    {
     "data": {
      "text/html": [
       "<div>\n",
       "<style scoped>\n",
       "    .dataframe tbody tr th:only-of-type {\n",
       "        vertical-align: middle;\n",
       "    }\n",
       "\n",
       "    .dataframe tbody tr th {\n",
       "        vertical-align: top;\n",
       "    }\n",
       "\n",
       "    .dataframe thead th {\n",
       "        text-align: right;\n",
       "    }\n",
       "</style>\n",
       "<table border=\"1\" class=\"dataframe\">\n",
       "  <thead>\n",
       "    <tr style=\"text-align: right;\">\n",
       "      <th></th>\n",
       "      <th>ID</th>\n",
       "      <th>CATEGORY_ID</th>\n",
       "      <th>BATCH_REFERENCE</th>\n",
       "      <th>DESCRIPTION</th>\n",
       "      <th>LONG_DESCRIPTION</th>\n",
       "      <th>MANF_NAME</th>\n",
       "    </tr>\n",
       "  </thead>\n",
       "  <tbody>\n",
       "    <tr>\n",
       "      <th>0</th>\n",
       "      <td>9683165</td>\n",
       "      <td>106733</td>\n",
       "      <td>Office Depot526G8183NewItems-CatagoeryDeselece...</td>\n",
       "      <td>FLUTE OUTFIT ODYSSEY</td>\n",
       "      <td>&lt;p&gt;&lt;b&gt;VAT Rate =20%&lt;b/&gt;&lt;p/&gt;</td>\n",
       "      <td>Office Depot</td>\n",
       "    </tr>\n",
       "    <tr>\n",
       "      <th>1</th>\n",
       "      <td>202859</td>\n",
       "      <td>101708</td>\n",
       "      <td>OfficeDepot526G6450CambridgeFurnitureHides2011...</td>\n",
       "      <td>Oki C9200/C9400 Toner Cartridge 41515210 Magenta</td>\n",
       "      <td>Oki C9000 Toner Cartridge Magenta 41515210&lt;p&gt;&lt;...</td>\n",
       "      <td>Oki</td>\n",
       "    </tr>\n",
       "    <tr>\n",
       "      <th>2</th>\n",
       "      <td>9683166</td>\n",
       "      <td>109322</td>\n",
       "      <td>Office Depot526G8183NewItems-CatagoeryDeselece...</td>\n",
       "      <td>CLARINET OUTFIT ODYSSEY</td>\n",
       "      <td>&lt;p&gt;&lt;b&gt;VAT Rate =20%&lt;b/&gt;&lt;p/&gt;</td>\n",
       "      <td>Office Depot</td>\n",
       "    </tr>\n",
       "    <tr>\n",
       "      <th>3</th>\n",
       "      <td>202858</td>\n",
       "      <td>101708</td>\n",
       "      <td>OfficeDepot526G6450CambridgeFurnitureHides2011...</td>\n",
       "      <td>Oki C9200/C9400 Toner Cartridge 41515211 Cyan</td>\n",
       "      <td>Oki C9000 Toner Cartridge Cyan 41515211&lt;p&gt;&lt;b&gt;V...</td>\n",
       "      <td>Oki</td>\n",
       "    </tr>\n",
       "    <tr>\n",
       "      <th>4</th>\n",
       "      <td>9683167</td>\n",
       "      <td>109322</td>\n",
       "      <td>Office Depot526G8183NewItems-CatagoeryDeselece...</td>\n",
       "      <td>ALTO SAX OUTFIT ODYSSEY</td>\n",
       "      <td>&lt;p&gt;&lt;b&gt;VAT Rate =20%&lt;b/&gt;&lt;p/&gt;</td>\n",
       "      <td>Office Depot</td>\n",
       "    </tr>\n",
       "  </tbody>\n",
       "</table>\n",
       "</div>"
      ],
      "text/plain": [
       "        ID  CATEGORY_ID                                    BATCH_REFERENCE  \\\n",
       "0  9683165       106733  Office Depot526G8183NewItems-CatagoeryDeselece...   \n",
       "1   202859       101708  OfficeDepot526G6450CambridgeFurnitureHides2011...   \n",
       "2  9683166       109322  Office Depot526G8183NewItems-CatagoeryDeselece...   \n",
       "3   202858       101708  OfficeDepot526G6450CambridgeFurnitureHides2011...   \n",
       "4  9683167       109322  Office Depot526G8183NewItems-CatagoeryDeselece...   \n",
       "\n",
       "                                        DESCRIPTION  \\\n",
       "0                              FLUTE OUTFIT ODYSSEY   \n",
       "1  Oki C9200/C9400 Toner Cartridge 41515210 Magenta   \n",
       "2                           CLARINET OUTFIT ODYSSEY   \n",
       "3     Oki C9200/C9400 Toner Cartridge 41515211 Cyan   \n",
       "4                           ALTO SAX OUTFIT ODYSSEY   \n",
       "\n",
       "                                    LONG_DESCRIPTION     MANF_NAME  \n",
       "0                        <p><b>VAT Rate =20%<b/><p/>  Office Depot  \n",
       "1  Oki C9000 Toner Cartridge Magenta 41515210<p><...           Oki  \n",
       "2                        <p><b>VAT Rate =20%<b/><p/>  Office Depot  \n",
       "3  Oki C9000 Toner Cartridge Cyan 41515211<p><b>V...           Oki  \n",
       "4                        <p><b>VAT Rate =20%<b/><p/>  Office Depot  "
      ]
     },
     "execution_count": 18,
     "metadata": {},
     "output_type": "execute_result"
    }
   ],
   "source": [
    "items = pd.read_csv('Item_Filtered.csv')\n",
    "items.head()"
   ]
  },
  {
   "cell_type": "code",
   "execution_count": 30,
   "metadata": {
    "scrolled": true
   },
   "outputs": [
    {
     "data": {
      "text/html": [
       "<div>\n",
       "<style scoped>\n",
       "    .dataframe tbody tr th:only-of-type {\n",
       "        vertical-align: middle;\n",
       "    }\n",
       "\n",
       "    .dataframe tbody tr th {\n",
       "        vertical-align: top;\n",
       "    }\n",
       "\n",
       "    .dataframe thead th {\n",
       "        text-align: right;\n",
       "    }\n",
       "</style>\n",
       "<table border=\"1\" class=\"dataframe\">\n",
       "  <thead>\n",
       "    <tr style=\"text-align: right;\">\n",
       "      <th></th>\n",
       "      <th>ID</th>\n",
       "      <th>NAME</th>\n",
       "      <th>text</th>\n",
       "    </tr>\n",
       "  </thead>\n",
       "  <tbody>\n",
       "    <tr>\n",
       "      <th>0</th>\n",
       "      <td>9683165</td>\n",
       "      <td>Standard</td>\n",
       "      <td>FLUTE OUTFIT ODYSSEY Office Depot</td>\n",
       "    </tr>\n",
       "    <tr>\n",
       "      <th>1</th>\n",
       "      <td>202859</td>\n",
       "      <td>Toner Cartridges</td>\n",
       "      <td>Oki C9200/C9400 Toner Cartridge 41515210 Magen...</td>\n",
       "    </tr>\n",
       "    <tr>\n",
       "      <th>2</th>\n",
       "      <td>9683166</td>\n",
       "      <td>Audio Visual Equipment</td>\n",
       "      <td>CLARINET OUTFIT ODYSSEY Office Depot</td>\n",
       "    </tr>\n",
       "    <tr>\n",
       "      <th>3</th>\n",
       "      <td>202858</td>\n",
       "      <td>Toner Cartridges</td>\n",
       "      <td>Oki C9200/C9400 Toner Cartridge 41515211 Cyan Oki</td>\n",
       "    </tr>\n",
       "    <tr>\n",
       "      <th>4</th>\n",
       "      <td>9683167</td>\n",
       "      <td>Audio Visual Equipment</td>\n",
       "      <td>ALTO SAX OUTFIT ODYSSEY Office Depot</td>\n",
       "    </tr>\n",
       "  </tbody>\n",
       "</table>\n",
       "</div>"
      ],
      "text/plain": [
       "        ID                    NAME  \\\n",
       "0  9683165                Standard   \n",
       "1   202859        Toner Cartridges   \n",
       "2  9683166  Audio Visual Equipment   \n",
       "3   202858        Toner Cartridges   \n",
       "4  9683167  Audio Visual Equipment   \n",
       "\n",
       "                                                text  \n",
       "0                  FLUTE OUTFIT ODYSSEY Office Depot  \n",
       "1  Oki C9200/C9400 Toner Cartridge 41515210 Magen...  \n",
       "2               CLARINET OUTFIT ODYSSEY Office Depot  \n",
       "3  Oki C9200/C9400 Toner Cartridge 41515211 Cyan Oki  \n",
       "4               ALTO SAX OUTFIT ODYSSEY Office Depot  "
      ]
     },
     "execution_count": 30,
     "metadata": {},
     "output_type": "execute_result"
    }
   ],
   "source": [
    "#Final data\n",
    "data = items.merge(categories,left_on='CATEGORY_ID',right_on='CATEGORY_ID',how='left')\n",
    "data['text'] = data.DESCRIPTION + ' ' + data.MANF_NAME\n",
    "data = data.drop(columns=['BATCH_REFERENCE','DESCRIPTION','LONG_DESCRIPTION','MANF_NAME','CATEGORY_ID'])\n",
    "data.head()"
   ]
  },
  {
   "cell_type": "code",
   "execution_count": 31,
   "metadata": {},
   "outputs": [
    {
     "data": {
      "text/html": [
       "<div>\n",
       "<style scoped>\n",
       "    .dataframe tbody tr th:only-of-type {\n",
       "        vertical-align: middle;\n",
       "    }\n",
       "\n",
       "    .dataframe tbody tr th {\n",
       "        vertical-align: top;\n",
       "    }\n",
       "\n",
       "    .dataframe thead th {\n",
       "        text-align: right;\n",
       "    }\n",
       "</style>\n",
       "<table border=\"1\" class=\"dataframe\">\n",
       "  <thead>\n",
       "    <tr style=\"text-align: right;\">\n",
       "      <th></th>\n",
       "      <th>ID</th>\n",
       "      <th>NAME</th>\n",
       "      <th>text</th>\n",
       "    </tr>\n",
       "  </thead>\n",
       "  <tbody>\n",
       "    <tr>\n",
       "      <th>0</th>\n",
       "      <td>9683165</td>\n",
       "      <td>Standard</td>\n",
       "      <td>FLUTE OUTFIT ODYSSEY Office Depot</td>\n",
       "    </tr>\n",
       "    <tr>\n",
       "      <th>1</th>\n",
       "      <td>202859</td>\n",
       "      <td>Toner Cartridges</td>\n",
       "      <td>Oki C9200/C9400 Toner Cartridge 41515210 Magen...</td>\n",
       "    </tr>\n",
       "    <tr>\n",
       "      <th>2</th>\n",
       "      <td>9683166</td>\n",
       "      <td>Audio Visual Equipment</td>\n",
       "      <td>CLARINET OUTFIT ODYSSEY Office Depot</td>\n",
       "    </tr>\n",
       "    <tr>\n",
       "      <th>3</th>\n",
       "      <td>202858</td>\n",
       "      <td>Toner Cartridges</td>\n",
       "      <td>Oki C9200/C9400 Toner Cartridge 41515211 Cyan Oki</td>\n",
       "    </tr>\n",
       "    <tr>\n",
       "      <th>4</th>\n",
       "      <td>9683167</td>\n",
       "      <td>Audio Visual Equipment</td>\n",
       "      <td>ALTO SAX OUTFIT ODYSSEY Office Depot</td>\n",
       "    </tr>\n",
       "  </tbody>\n",
       "</table>\n",
       "</div>"
      ],
      "text/plain": [
       "        ID                    NAME  \\\n",
       "0  9683165                Standard   \n",
       "1   202859        Toner Cartridges   \n",
       "2  9683166  Audio Visual Equipment   \n",
       "3   202858        Toner Cartridges   \n",
       "4  9683167  Audio Visual Equipment   \n",
       "\n",
       "                                                text  \n",
       "0                  FLUTE OUTFIT ODYSSEY Office Depot  \n",
       "1  Oki C9200/C9400 Toner Cartridge 41515210 Magen...  \n",
       "2               CLARINET OUTFIT ODYSSEY Office Depot  \n",
       "3  Oki C9200/C9400 Toner Cartridge 41515211 Cyan Oki  \n",
       "4               ALTO SAX OUTFIT ODYSSEY Office Depot  "
      ]
     },
     "execution_count": 31,
     "metadata": {},
     "output_type": "execute_result"
    }
   ],
   "source": [
    "data.head()"
   ]
  },
  {
   "cell_type": "code",
   "execution_count": 33,
   "metadata": {},
   "outputs": [],
   "source": [
    "#Data cleaning\n",
    "default_stemmer = PorterStemmer()\n",
    "default_stopwords = stopwords.words('english') # or any other list of your chose\n",
    "def clean_text(text, ):\n",
    "\n",
    "    def tokenize_text(text):\n",
    "        return [w for s in sent_tokenize(text) for w in word_tokenize(s)]\n",
    "\n",
    "    def remove_special_characters(text, characters=string.punctuation.replace('-', '')):\n",
    "        tokens = tokenize_text(text)\n",
    "        pattern = re.compile('[{}]'.format(re.escape(characters)))\n",
    "        return ' '.join(filter(None, [pattern.sub('', t) for t in tokens]))\n",
    "\n",
    "    def stem_text(text, stemmer=default_stemmer):\n",
    "        tokens = tokenize_text(text)\n",
    "        return ' '.join([stemmer.stem(t) for t in tokens])\n",
    "\n",
    "    def remove_stopwords(text, stop_words=default_stopwords):\n",
    "        tokens = [w for w in tokenize_text(text) if w not in stop_words]\n",
    "        return ' '.join(tokens)\n",
    "\n",
    "    text = re.sub(r'[0-9]+', '', text)\n",
    "    text = text.lower() #lowercase\n",
    "    text = stem_text(text) #stemming\n",
    "    text = remove_special_characters(text) #remove punctuation and symbols\n",
    "    text = remove_stopwords(text) #remove stopwords\n",
    "    #text.strip(' ') # strip white spaces again?\n",
    "\n",
    "    return text"
   ]
  },
  {
   "cell_type": "code",
   "execution_count": 34,
   "metadata": {},
   "outputs": [
    {
     "data": {
      "text/html": [
       "<div>\n",
       "<style scoped>\n",
       "    .dataframe tbody tr th:only-of-type {\n",
       "        vertical-align: middle;\n",
       "    }\n",
       "\n",
       "    .dataframe tbody tr th {\n",
       "        vertical-align: top;\n",
       "    }\n",
       "\n",
       "    .dataframe thead th {\n",
       "        text-align: right;\n",
       "    }\n",
       "</style>\n",
       "<table border=\"1\" class=\"dataframe\">\n",
       "  <thead>\n",
       "    <tr style=\"text-align: right;\">\n",
       "      <th></th>\n",
       "      <th>ID</th>\n",
       "      <th>NAME</th>\n",
       "      <th>text</th>\n",
       "    </tr>\n",
       "  </thead>\n",
       "  <tbody>\n",
       "    <tr>\n",
       "      <th>0</th>\n",
       "      <td>9683165</td>\n",
       "      <td>Standard</td>\n",
       "      <td>flute outfit odyssey offic depot</td>\n",
       "    </tr>\n",
       "    <tr>\n",
       "      <th>1</th>\n",
       "      <td>202859</td>\n",
       "      <td>Toner Cartridges</td>\n",
       "      <td>oki cc toner cartridg magenta oki</td>\n",
       "    </tr>\n",
       "    <tr>\n",
       "      <th>2</th>\n",
       "      <td>9683166</td>\n",
       "      <td>Audio Visual Equipment</td>\n",
       "      <td>clarinet outfit odyssey offic depot</td>\n",
       "    </tr>\n",
       "    <tr>\n",
       "      <th>3</th>\n",
       "      <td>202858</td>\n",
       "      <td>Toner Cartridges</td>\n",
       "      <td>oki cc toner cartridg cyan oki</td>\n",
       "    </tr>\n",
       "    <tr>\n",
       "      <th>4</th>\n",
       "      <td>9683167</td>\n",
       "      <td>Audio Visual Equipment</td>\n",
       "      <td>alto sax outfit odyssey offic depot</td>\n",
       "    </tr>\n",
       "  </tbody>\n",
       "</table>\n",
       "</div>"
      ],
      "text/plain": [
       "        ID                    NAME                                 text\n",
       "0  9683165                Standard     flute outfit odyssey offic depot\n",
       "1   202859        Toner Cartridges    oki cc toner cartridg magenta oki\n",
       "2  9683166  Audio Visual Equipment  clarinet outfit odyssey offic depot\n",
       "3   202858        Toner Cartridges       oki cc toner cartridg cyan oki\n",
       "4  9683167  Audio Visual Equipment  alto sax outfit odyssey offic depot"
      ]
     },
     "execution_count": 34,
     "metadata": {},
     "output_type": "execute_result"
    }
   ],
   "source": [
    "data.text = data.text.apply(clean_text)\n",
    "data.head()"
   ]
  },
  {
   "cell_type": "code",
   "execution_count": 35,
   "metadata": {},
   "outputs": [],
   "source": [
    "back_up_products = data.loc[:,['ID','text']]\n",
    "features = data.text\n",
    "target = data.NAME"
   ]
  },
  {
   "cell_type": "code",
   "execution_count": 36,
   "metadata": {},
   "outputs": [],
   "source": [
    "#encoding target\n",
    "le = LabelEncoder()\n",
    "le.fit(target)\n",
    "target = le.transform(target)"
   ]
  },
  {
   "cell_type": "code",
   "execution_count": 113,
   "metadata": {},
   "outputs": [
    {
     "data": {
      "text/plain": [
       "['labelEncoder.pkl']"
      ]
     },
     "execution_count": 113,
     "metadata": {},
     "output_type": "execute_result"
    }
   ],
   "source": [
    "joblib.dump(le,'labelEncoder.pkl')"
   ]
  },
  {
   "cell_type": "code",
   "execution_count": 37,
   "metadata": {},
   "outputs": [],
   "source": [
    "#First Model with Count Vectorizer\n",
    "cv = CountVectorizer()\n",
    "cv.fit(features)\n",
    "features_cv = cv.fit_transform(features)"
   ]
  },
  {
   "cell_type": "code",
   "execution_count": 115,
   "metadata": {},
   "outputs": [
    {
     "data": {
      "text/plain": [
       "['vectorizer.pkl']"
      ]
     },
     "execution_count": 115,
     "metadata": {},
     "output_type": "execute_result"
    }
   ],
   "source": [
    "joblib.dump(cv,'vectorizer.pkl')"
   ]
  },
  {
   "cell_type": "code",
   "execution_count": 38,
   "metadata": {},
   "outputs": [],
   "source": [
    "from sklearn.model_selection import train_test_split\n",
    "X_train_cv, X_test_cv, y_train_cv, y_test_cv = train_test_split(features_cv, target, test_size=0.2, random_state=42,stratify=target)"
   ]
  },
  {
   "cell_type": "code",
   "execution_count": 47,
   "metadata": {},
   "outputs": [
    {
     "name": "stdout",
     "output_type": "stream",
     "text": [
      "Records in train:  21544\n",
      "Records in test:  5386\n"
     ]
    }
   ],
   "source": [
    "print('Records in train: ',X_train_cv.shape[0])\n",
    "print('Records in test: ',X_test_cv.shape[0])"
   ]
  },
  {
   "cell_type": "code",
   "execution_count": 48,
   "metadata": {},
   "outputs": [
    {
     "name": "stdout",
     "output_type": "stream",
     "text": [
      "Features: 8152\n"
     ]
    }
   ],
   "source": [
    "print('Features:',X_train_cv.shape[1])"
   ]
  },
  {
   "cell_type": "code",
   "execution_count": 39,
   "metadata": {},
   "outputs": [],
   "source": [
    "#Naive Bayes\n",
    "from sklearn.naive_bayes import MultinomialNB\n",
    "mNb = MultinomialNB(fit_prior=True)\n",
    "mNb.fit(X_train_cv,y_train_cv)\n",
    "y_pred_cv = mNb.predict(X_test_cv)"
   ]
  },
  {
   "cell_type": "code",
   "execution_count": 40,
   "metadata": {},
   "outputs": [
    {
     "name": "stdout",
     "output_type": "stream",
     "text": [
      "Accuracy with NB with prior probability: 0.7992944671370219\n"
     ]
    }
   ],
   "source": [
    "from sklearn.metrics import accuracy_score\n",
    "print('Accuracy with NB with prior probability:',accuracy_score(y_test_cv,y_pred_cv))"
   ]
  },
  {
   "cell_type": "code",
   "execution_count": 41,
   "metadata": {},
   "outputs": [
    {
     "name": "stdout",
     "output_type": "stream",
     "text": [
      "Accuracy with NB without prior probability: 0.818418121054586\n"
     ]
    }
   ],
   "source": [
    "#Naive Bayes 2\n",
    "mNb2 = MultinomialNB(fit_prior=False)\n",
    "mNb2.fit(X_train_cv,y_train_cv)\n",
    "y_pred_cv2 = mNb2.predict(X_test_cv)\n",
    "print('Accuracy with NB without prior probability:',accuracy_score(y_test_cv,y_pred_cv2))"
   ]
  },
  {
   "cell_type": "markdown",
   "metadata": {},
   "source": [
    "<h1>Logistic Regression</h1>"
   ]
  },
  {
   "cell_type": "code",
   "execution_count": 42,
   "metadata": {},
   "outputs": [
    {
     "name": "stdout",
     "output_type": "stream",
     "text": [
      "Accuracy with LR: 0.9064240623839585\n"
     ]
    }
   ],
   "source": [
    "#Multinomial Logistic Regression\n",
    "from sklearn.linear_model import LogisticRegression\n",
    "lrCV = LogisticRegression(multi_class='multinomial', solver='newton-cg').fit(X_train_cv,y_train_cv)\n",
    "y_pred_lrCV = lrCV.predict(X_test_cv)\n",
    "print('Accuracy with LR:',accuracy_score(y_test_cv,y_pred_lrCV))"
   ]
  },
  {
   "cell_type": "code",
   "execution_count": 43,
   "metadata": {},
   "outputs": [
    {
     "name": "stdout",
     "output_type": "stream",
     "text": [
      "Accuracy with LR: 0.9064240623839585\n"
     ]
    }
   ],
   "source": [
    "print('Accuracy with LR:',accuracy_score(y_test_cv,y_pred_lrCV))"
   ]
  },
  {
   "cell_type": "code",
   "execution_count": 44,
   "metadata": {},
   "outputs": [
    {
     "name": "stdout",
     "output_type": "stream",
     "text": [
      "Accuracy with SVM: 0.8975120683252877\n"
     ]
    }
   ],
   "source": [
    "#SVM\n",
    "from sklearn.svm import LinearSVC\n",
    "svc = LinearSVC(C=1,penalty='l2',multi_class='ovr',class_weight='balanced',random_state=42).fit(X_train_cv,y_train_cv)\n",
    "y_pred_svc = svc.predict(X_test_cv)\n",
    "print('Accuracy with SVM:',accuracy_score(y_test_cv,y_pred_svc))"
   ]
  },
  {
   "cell_type": "code",
   "execution_count": 46,
   "metadata": {},
   "outputs": [
    {
     "data": {
      "text/plain": [
       "8152"
      ]
     },
     "execution_count": 46,
     "metadata": {},
     "output_type": "execute_result"
    }
   ],
   "source": [
    "features_cv.shape[1]"
   ]
  },
  {
   "cell_type": "code",
   "execution_count": 53,
   "metadata": {},
   "outputs": [
    {
     "name": "stdout",
     "output_type": "stream",
     "text": [
      "Accuracy with Decision Tree gini 0.8982547344968437\n"
     ]
    }
   ],
   "source": [
    "#Decision Tree\n",
    "from sklearn.tree import DecisionTreeClassifier\n",
    "dt = DecisionTreeClassifier(criterion='gini',class_weight='balanced').fit(X_train_cv,y_train_cv)\n",
    "y_pred_dtg = dt.predict(X_test_cv)\n",
    "print('Accuracy with Decision Tree gini',accuracy_score(y_pred_dtg,y_pred_svc))"
   ]
  },
  {
   "cell_type": "code",
   "execution_count": 66,
   "metadata": {},
   "outputs": [
    {
     "name": "stdout",
     "output_type": "stream",
     "text": [
      "Accuracy with Decision Tree entropy 0.84478277014482\n"
     ]
    }
   ],
   "source": [
    "#Decision Tree\n",
    "max_feature = int(np.sqrt(features_cv.shape[1]))\n",
    "from sklearn.tree import DecisionTreeClassifier\n",
    "dt = DecisionTreeClassifier(criterion='entropy',class_weight='balanced',max_features='auto').fit(X_train_cv,y_train_cv)\n",
    "y_pred_dte = dt.predict(X_test_cv)\n",
    "print('Accuracy with Decision Tree entropy',accuracy_score(y_pred_dte,y_pred_svc))"
   ]
  },
  {
   "cell_type": "code",
   "execution_count": 72,
   "metadata": {},
   "outputs": [
    {
     "name": "stdout",
     "output_type": "stream",
     "text": [
      "Accuracy with RF: 0.9066097289268474\n"
     ]
    }
   ],
   "source": [
    "#Random Forest\n",
    "from sklearn.ensemble import RandomForestClassifier\n",
    "rf = RandomForestClassifier(n_estimators=400,oob_score=True,n_jobs=-1,random_state=42,class_weight='balanced').fit(X_train_cv,y_train_cv)\n",
    "y_pred_rf = rf.predict(X_test_cv)\n",
    "print('Accuracy with RF:',accuracy_score(y_test_cv,y_pred_rf))"
   ]
  },
  {
   "cell_type": "code",
   "execution_count": 75,
   "metadata": {},
   "outputs": [],
   "source": [
    "#\n",
    "idf = TfidfVectorizer()\n",
    "features_idf = idf.fit_transform(features)"
   ]
  },
  {
   "cell_type": "code",
   "execution_count": 77,
   "metadata": {},
   "outputs": [
    {
     "data": {
      "text/plain": [
       "['LRmodel.pkl']"
      ]
     },
     "execution_count": 77,
     "metadata": {},
     "output_type": "execute_result"
    }
   ],
   "source": [
    "from sklearn.externals import joblib\n",
    "\n",
    "joblib.dump(lrCV,'LRmodel.pkl')"
   ]
  },
  {
   "cell_type": "code",
   "execution_count": 50,
   "metadata": {},
   "outputs": [
    {
     "data": {
      "text/html": [
       "<div>\n",
       "<style scoped>\n",
       "    .dataframe tbody tr th:only-of-type {\n",
       "        vertical-align: middle;\n",
       "    }\n",
       "\n",
       "    .dataframe tbody tr th {\n",
       "        vertical-align: top;\n",
       "    }\n",
       "\n",
       "    .dataframe thead th {\n",
       "        text-align: right;\n",
       "    }\n",
       "</style>\n",
       "<table border=\"1\" class=\"dataframe\">\n",
       "  <thead>\n",
       "    <tr style=\"text-align: right;\">\n",
       "      <th></th>\n",
       "      <th>ID</th>\n",
       "      <th>NAME</th>\n",
       "      <th>text</th>\n",
       "    </tr>\n",
       "  </thead>\n",
       "  <tbody>\n",
       "    <tr>\n",
       "      <th>0</th>\n",
       "      <td>9683165</td>\n",
       "      <td>Standard</td>\n",
       "      <td>flute outfit odyssey offic depot</td>\n",
       "    </tr>\n",
       "    <tr>\n",
       "      <th>1</th>\n",
       "      <td>202859</td>\n",
       "      <td>Toner Cartridges</td>\n",
       "      <td>oki cc toner cartridg magenta oki</td>\n",
       "    </tr>\n",
       "    <tr>\n",
       "      <th>2</th>\n",
       "      <td>9683166</td>\n",
       "      <td>Audio Visual Equipment</td>\n",
       "      <td>clarinet outfit odyssey offic depot</td>\n",
       "    </tr>\n",
       "    <tr>\n",
       "      <th>3</th>\n",
       "      <td>202858</td>\n",
       "      <td>Toner Cartridges</td>\n",
       "      <td>oki cc toner cartridg cyan oki</td>\n",
       "    </tr>\n",
       "    <tr>\n",
       "      <th>4</th>\n",
       "      <td>9683167</td>\n",
       "      <td>Audio Visual Equipment</td>\n",
       "      <td>alto sax outfit odyssey offic depot</td>\n",
       "    </tr>\n",
       "  </tbody>\n",
       "</table>\n",
       "</div>"
      ],
      "text/plain": [
       "        ID                    NAME                                 text\n",
       "0  9683165                Standard     flute outfit odyssey offic depot\n",
       "1   202859        Toner Cartridges    oki cc toner cartridg magenta oki\n",
       "2  9683166  Audio Visual Equipment  clarinet outfit odyssey offic depot\n",
       "3   202858        Toner Cartridges       oki cc toner cartridg cyan oki\n",
       "4  9683167  Audio Visual Equipment  alto sax outfit odyssey offic depot"
      ]
     },
     "execution_count": 50,
     "metadata": {},
     "output_type": "execute_result"
    }
   ],
   "source": [
    "data.head()"
   ]
  },
  {
   "cell_type": "code",
   "execution_count": 51,
   "metadata": {},
   "outputs": [],
   "source": [
    "sample = data.sample(50)"
   ]
  },
  {
   "cell_type": "code",
   "execution_count": 52,
   "metadata": {},
   "outputs": [
    {
     "data": {
      "text/html": [
       "<div>\n",
       "<style scoped>\n",
       "    .dataframe tbody tr th:only-of-type {\n",
       "        vertical-align: middle;\n",
       "    }\n",
       "\n",
       "    .dataframe tbody tr th {\n",
       "        vertical-align: top;\n",
       "    }\n",
       "\n",
       "    .dataframe thead th {\n",
       "        text-align: right;\n",
       "    }\n",
       "</style>\n",
       "<table border=\"1\" class=\"dataframe\">\n",
       "  <thead>\n",
       "    <tr style=\"text-align: right;\">\n",
       "      <th></th>\n",
       "      <th>ID</th>\n",
       "      <th>NAME</th>\n",
       "      <th>text</th>\n",
       "    </tr>\n",
       "  </thead>\n",
       "  <tbody>\n",
       "    <tr>\n",
       "      <th>18773</th>\n",
       "      <td>6765763</td>\n",
       "      <td>Printer Paper</td>\n",
       "      <td>cartridg paper gsm white pk offic depot</td>\n",
       "    </tr>\n",
       "    <tr>\n",
       "      <th>9890</th>\n",
       "      <td>10106658</td>\n",
       "      <td>Notebook Computers</td>\n",
       "      <td>hp probook b notebook hp</td>\n",
       "    </tr>\n",
       "    <tr>\n",
       "      <th>26794</th>\n",
       "      <td>10116024</td>\n",
       "      <td>Standard</td>\n",
       "      <td>aec solut ihc good slide invitrogen zyme</td>\n",
       "    </tr>\n",
       "    <tr>\n",
       "      <th>5196</th>\n",
       "      <td>10108306</td>\n",
       "      <td>Motherboards</td>\n",
       "      <td>msi a-g socket socket motherboard msi</td>\n",
       "    </tr>\n",
       "    <tr>\n",
       "      <th>5920</th>\n",
       "      <td>9788253</td>\n",
       "      <td>Standard</td>\n",
       "      <td>startech port cat usb ps kvm switch startech</td>\n",
       "    </tr>\n",
       "  </tbody>\n",
       "</table>\n",
       "</div>"
      ],
      "text/plain": [
       "             ID                NAME  \\\n",
       "18773   6765763       Printer Paper   \n",
       "9890   10106658  Notebook Computers   \n",
       "26794  10116024            Standard   \n",
       "5196   10108306        Motherboards   \n",
       "5920    9788253            Standard   \n",
       "\n",
       "                                               text  \n",
       "18773       cartridg paper gsm white pk offic depot  \n",
       "9890                       hp probook b notebook hp  \n",
       "26794      aec solut ihc good slide invitrogen zyme  \n",
       "5196          msi a-g socket socket motherboard msi  \n",
       "5920   startech port cat usb ps kvm switch startech  "
      ]
     },
     "execution_count": 52,
     "metadata": {},
     "output_type": "execute_result"
    }
   ],
   "source": [
    "sample.head()"
   ]
  },
  {
   "cell_type": "code",
   "execution_count": 57,
   "metadata": {},
   "outputs": [
    {
     "name": "stderr",
     "output_type": "stream",
     "text": [
      "C:\\Users\\vishnu.raju\\AppData\\Local\\Continuum\\anaconda3\\lib\\site-packages\\sklearn\\preprocessing\\label.py:151: DeprecationWarning: The truth value of an empty array is ambiguous. Returning False, but in future this will result in an error. Use `array.size > 0` to check that an array is not empty.\n",
      "  if diff:\n"
     ]
    },
    {
     "data": {
      "text/plain": [
       "'Motherboards'"
      ]
     },
     "execution_count": 57,
     "metadata": {},
     "output_type": "execute_result"
    }
   ],
   "source": [
    "predictFromText(sample.text.iloc[3])"
   ]
  }
 ],
 "metadata": {
  "kernelspec": {
   "display_name": "Python 3",
   "language": "python",
   "name": "python3"
  },
  "language_info": {
   "codemirror_mode": {
    "name": "ipython",
    "version": 3
   },
   "file_extension": ".py",
   "mimetype": "text/x-python",
   "name": "python",
   "nbconvert_exporter": "python",
   "pygments_lexer": "ipython3",
   "version": "3.6.5"
  }
 },
 "nbformat": 4,
 "nbformat_minor": 2
}
