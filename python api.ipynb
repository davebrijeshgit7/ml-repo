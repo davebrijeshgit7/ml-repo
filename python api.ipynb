{
 "cells": [
  {
   "cell_type": "code",
   "execution_count": 1,
   "metadata": {},
   "outputs": [],
   "source": [
    "import pandas as pd\n",
    "import nltk\n",
    "import re\n",
    "import string\n",
    "from nltk.tokenize import word_tokenize, sent_tokenize\n",
    "from nltk.corpus import stopwords\n",
    "from nltk.stem import PorterStemmer\n",
    "from sklearn.feature_extraction.text import CountVectorizer, TfidfVectorizer\n",
    "from sklearn.externals import joblib"
   ]
  },
  {
   "cell_type": "code",
   "execution_count": 4,
   "metadata": {
    "scrolled": true
   },
   "outputs": [
    {
     "name": "stdout",
     "output_type": "stream",
     "text": [
      "[nltk_data] Downloading package stopwords to\n",
      "[nltk_data]     C:\\Users\\vishnu.raju\\AppData\\Roaming\\nltk_data...\n",
      "[nltk_data]   Package stopwords is already up-to-date!\n",
      "[nltk_data] Downloading package punkt to\n",
      "[nltk_data]     C:\\Users\\vishnu.raju\\AppData\\Roaming\\nltk_data...\n",
      "[nltk_data]   Package punkt is already up-to-date!\n"
     ]
    },
    {
     "data": {
      "text/plain": [
       "True"
      ]
     },
     "execution_count": 4,
     "metadata": {},
     "output_type": "execute_result"
    }
   ],
   "source": [
    "nltk.download('stopwords')\n",
    "nltk.download('punkt')"
   ]
  },
  {
   "cell_type": "code",
   "execution_count": 3,
   "metadata": {},
   "outputs": [],
   "source": [
    "from sklearn.externals import joblib\n",
    "loaded_model = joblib.load('LRmodel.pkl')\n",
    "vectorizer = joblib.load('vectorizer.pkl')\n",
    "labelEncoder = joblib.load('labelEncoder.pkl')"
   ]
  },
  {
   "cell_type": "code",
   "execution_count": 4,
   "metadata": {},
   "outputs": [],
   "source": [
    "#Data cleaning\n",
    "default_stemmer = PorterStemmer()\n",
    "default_stopwords = stopwords.words('english') # or any other list of your chose\n",
    "def clean_text(text, ):\n",
    "\n",
    "    def tokenize_text(text):\n",
    "        return [w for s in sent_tokenize(text) for w in word_tokenize(s)]\n",
    "\n",
    "    def remove_special_characters(text, characters=string.punctuation.replace('-', '')):\n",
    "        tokens = tokenize_text(text)\n",
    "        pattern = re.compile('[{}]'.format(re.escape(characters)))\n",
    "        return ' '.join(filter(None, [pattern.sub('', t) for t in tokens]))\n",
    "\n",
    "    def stem_text(text, stemmer=default_stemmer):\n",
    "        tokens = tokenize_text(text)\n",
    "        return ' '.join([stemmer.stem(t) for t in tokens])\n",
    "\n",
    "    def remove_stopwords(text, stop_words=default_stopwords):\n",
    "        tokens = [w for w in tokenize_text(text) if w not in stop_words]\n",
    "        return ' '.join(tokens)\n",
    "\n",
    "    text = re.sub(r'[0-9]+', '', text)\n",
    "    text = text.lower() #lowercase\n",
    "    text = stem_text(text) #stemming\n",
    "    text = remove_special_characters(text) #remove punctuation and symbols\n",
    "    text = remove_stopwords(text) #remove stopwords\n",
    "    #text.strip(' ') # strip white spaces again?\n",
    "\n",
    "    return text"
   ]
  },
  {
   "cell_type": "code",
   "execution_count": 5,
   "metadata": {},
   "outputs": [],
   "source": [
    "def predictFromFile(filename):\n",
    "    data = pd.read_csv(filename)\n",
    "    data.columns = ['Product','Description']\n",
    "    \n",
    "    features = pd.DataFrame()\n",
    "    features['Description'] = data.Description.apply(clean_text)\n",
    "    \n",
    "    \n",
    "    #vectorize using the save count vectorizer\n",
    "    features = vectorizer.transform(features.Description)\n",
    "    \n",
    "    #make prediction using loaded model\n",
    "    y_pred = loaded_model.predict(features)\n",
    "    \n",
    "    #inverse transform to get the category label\n",
    "    y_pred = labelEncoder.inverse_transform(y_pred)\n",
    "    data['Predicted Category'] = y_pred\n",
    "    #save the file as csv\n",
    "    data.to_csv('Output_of_model')\n",
    "    print('File Generated!')\n",
    "    return data"
   ]
  },
  {
   "cell_type": "code",
   "execution_count": 12,
   "metadata": {
    "scrolled": true
   },
   "outputs": [
    {
     "name": "stdout",
     "output_type": "stream",
     "text": [
      "File Generated!\n"
     ]
    },
    {
     "name": "stderr",
     "output_type": "stream",
     "text": [
      "C:\\Users\\vishnu.raju\\AppData\\Local\\Continuum\\anaconda3\\lib\\site-packages\\sklearn\\preprocessing\\label.py:151: DeprecationWarning: The truth value of an empty array is ambiguous. Returning False, but in future this will result in an error. Use `array.size > 0` to check that an array is not empty.\n",
      "  if diff:\n"
     ]
    }
   ],
   "source": [
    "data = predictFromFile('test_table.csv')"
   ]
  },
  {
   "cell_type": "code",
   "execution_count": 10,
   "metadata": {},
   "outputs": [],
   "source": [
    "def predictFromText(text):\n",
    "    text = pd.Series(text)\n",
    "    text = text.apply(clean_text)\n",
    "    text = vectorizer.transform(text)\n",
    "    y_pred = loaded_model.predict(text)\n",
    "    y_pred = labelEncoder.inverse_transform(y_pred)\n",
    "    return (y_pred[0])"
   ]
  },
  {
   "cell_type": "code",
   "execution_count": 12,
   "metadata": {},
   "outputs": [
    {
     "name": "stderr",
     "output_type": "stream",
     "text": [
      "C:\\Users\\vishnu.raju\\AppData\\Local\\Continuum\\anaconda3\\lib\\site-packages\\sklearn\\preprocessing\\label.py:151: DeprecationWarning: The truth value of an empty array is ambiguous. Returning False, but in future this will result in an error. Use `array.size > 0` to check that an array is not empty.\n",
      "  if diff:\n"
     ]
    },
    {
     "data": {
      "text/plain": [
       "'Corded Telephones'"
      ]
     },
     "execution_count": 12,
     "metadata": {},
     "output_type": "execute_result"
    }
   ],
   "source": [
    "predictFromText('BT Diverse 7450 DECT Phone BT')"
   ]
  },
  {
   "cell_type": "code",
   "execution_count": 16,
   "metadata": {
    "scrolled": true
   },
   "outputs": [
    {
     "data": {
      "text/html": [
       "<div>\n",
       "<style scoped>\n",
       "    .dataframe tbody tr th:only-of-type {\n",
       "        vertical-align: middle;\n",
       "    }\n",
       "\n",
       "    .dataframe tbody tr th {\n",
       "        vertical-align: top;\n",
       "    }\n",
       "\n",
       "    .dataframe thead th {\n",
       "        text-align: right;\n",
       "    }\n",
       "</style>\n",
       "<table border=\"1\" class=\"dataframe\">\n",
       "  <thead>\n",
       "    <tr style=\"text-align: right;\">\n",
       "      <th></th>\n",
       "      <th>Product</th>\n",
       "      <th>Description</th>\n",
       "      <th>Predicted Category</th>\n",
       "    </tr>\n",
       "  </thead>\n",
       "  <tbody>\n",
       "    <tr>\n",
       "      <th>44</th>\n",
       "      <td>7249729</td>\n",
       "      <td>A2010 Semi Circular Table White 1600mm</td>\n",
       "      <td>Tables</td>\n",
       "    </tr>\n",
       "    <tr>\n",
       "      <th>45</th>\n",
       "      <td>7249730</td>\n",
       "      <td>A2010 Circular Table White 850mm</td>\n",
       "      <td>Tables</td>\n",
       "    </tr>\n",
       "    <tr>\n",
       "      <th>46</th>\n",
       "      <td>7249731</td>\n",
       "      <td>Radial Desk White A2010 1600 x 1600mm</td>\n",
       "      <td>Desks and Workstations</td>\n",
       "    </tr>\n",
       "    <tr>\n",
       "      <th>47</th>\n",
       "      <td>7249732</td>\n",
       "      <td>A2010 Wave Desk White Left Hand 1400mm</td>\n",
       "      <td>Desks and Workstations</td>\n",
       "    </tr>\n",
       "    <tr>\n",
       "      <th>48</th>\n",
       "      <td>7249733</td>\n",
       "      <td>A2010 Circular Table White 1200mm 725H x 1200D mm</td>\n",
       "      <td>Tables</td>\n",
       "    </tr>\n",
       "  </tbody>\n",
       "</table>\n",
       "</div>"
      ],
      "text/plain": [
       "    Product                                        Description  \\\n",
       "44  7249729             A2010 Semi Circular Table White 1600mm   \n",
       "45  7249730                   A2010 Circular Table White 850mm   \n",
       "46  7249731              Radial Desk White A2010 1600 x 1600mm   \n",
       "47  7249732             A2010 Wave Desk White Left Hand 1400mm   \n",
       "48  7249733  A2010 Circular Table White 1200mm 725H x 1200D mm   \n",
       "\n",
       "        Predicted Category  \n",
       "44                  Tables  \n",
       "45                  Tables  \n",
       "46  Desks and Workstations  \n",
       "47  Desks and Workstations  \n",
       "48                  Tables  "
      ]
     },
     "execution_count": 16,
     "metadata": {},
     "output_type": "execute_result"
    }
   ],
   "source": [
    "data.tail()"
   ]
  },
  {
   "cell_type": "code",
   "execution_count": 19,
   "metadata": {},
   "outputs": [
    {
     "data": {
      "text/plain": [
       "'[{\"Product\":9683165,\"Description\":\"FLUTE OUTFIT ODYSSEY\",\"Predicted Category\":\"Standard\"},{\"Product\":202859,\"Description\":\"Oki C9200\\\\/C9400 Toner Cartridge 41515210 Magenta\",\"Predicted Category\":\"Toner Cartridges\"},{\"Product\":9683166,\"Description\":\"CLARINET OUTFIT ODYSSEY\",\"Predicted Category\":\"Standard\"},{\"Product\":202858,\"Description\":\"Oki C9200\\\\/C9400 Toner Cartridge 41515211 Cyan\",\"Predicted Category\":\"Toner Cartridges\"},{\"Product\":9683167,\"Description\":\"ALTO SAX OUTFIT ODYSSEY\",\"Predicted Category\":\"Standard\"},{\"Product\":202853,\"Description\":\"Oki C9200\\\\/C9400 Drum Unit 41514712 Black\",\"Predicted Category\":\"Printing Machine Drums\"},{\"Product\":7249420,\"Description\":\"Alba Wired Wall Display Pockets  7 x A4 - 1120H x 250W x 130D mm\",\"Predicted Category\":\"Literature Organisers\"},{\"Product\":7249421,\"Description\":\"Alba Floor Standing Literature Display - Mobile Triple 1660H x 820W x 510D mm\",\"Predicted Category\":\"Literature Organisers\"},{\"Product\":7249426,\"Description\":\"BT Diverse 7110 DECT Phone\",\"Predicted Category\":\"Corded Telephones\"},{\"Product\":6415215,\"Description\":\"Executive 1 Week To View Black A4 Nceday\",\"Predicted Category\":\"Diaries\"},{\"Product\":6415229,\"Description\":\"Qto Week To View Binded Leather Black Niceday\",\"Predicted Category\":\"Diaries\"},{\"Product\":2177336,\"Description\":\"Niceday Everyday Padded Desk Diary - Quarto Week to View Appointments Black\",\"Predicted Category\":\"Diaries\"},{\"Product\":6415191,\"Description\":\"Desk Day To A Page With Appoint Bk A4 Niceday\",\"Predicted Category\":\"Diaries\"},{\"Product\":6415192,\"Description\":\"Desk Day To A Page Sep Sat\\\\/Sun A5 Nceday\",\"Predicted Category\":\"Diaries\"},{\"Product\":6415228,\"Description\":\"Qto Week To View With Appointments Black Niceday\",\"Predicted Category\":\"Diaries\"},{\"Product\":6415199,\"Description\":\"Desk 2 Pages Per Day Black Niceday\",\"Predicted Category\":\"Diaries\"},{\"Product\":7249483,\"Description\":\"Foray A4 Notebook Ruled Hard Cover 80gsm\",\"Predicted Category\":\"Notebooks\"},{\"Product\":7249484,\"Description\":\"Office Depot A6 Wirebound Manuscript Book Ruled 80gsm\",\"Predicted Category\":\"Notebooks\"},{\"Product\":7249485,\"Description\":\"Office Depot A5 Wirebound Manuscript Book Ruled 80gsm\",\"Predicted Category\":\"Notebooks\"},{\"Product\":7249567,\"Description\":\"Snopake 10 Pocket Display Book A4 Clear Snopake\",\"Predicted Category\":\"Document Binders\"},{\"Product\":7249568,\"Description\":\"Snopake 24 Pocket Display Book Clear A4\",\"Predicted Category\":\"Document Binders\"},{\"Product\":7249569,\"Description\":\"Snopake Zippa Bags A5 Blue\",\"Predicted Category\":\"Bags\"},{\"Product\":197857,\"Description\":\"Gold Blend Coffee 500gm\",\"Predicted Category\":\"Coffee\"},{\"Product\":9991842,\"Description\":\"SHREDDER REXEL RSX1632\",\"Predicted Category\":\"Document Shredders\"},{\"Product\":9991843,\"Description\":\"SHREDDER REXEL RES1223\",\"Predicted Category\":\"Document Shredders\"},{\"Product\":9459554,\"Description\":\"SHREDDER REXEL REX1023\",\"Predicted Category\":\"Document Shredders\"},{\"Product\":9991844,\"Description\":\"SHREDDER REXEL V125\",\"Predicted Category\":\"Document Shredders\"},{\"Product\":9991845,\"Description\":\"SHREDDER REXEL V120\",\"Predicted Category\":\"Document Shredders\"},{\"Product\":198395,\"Description\":\"Epson Ribbon LQ200\\\\/300\\\\/400\\\\/450\\\\/550\\\\/570\\\\/570+\\\\/800\\\\/850\\\\/870 7753\",\"Predicted Category\":\"Business Machine Ribbons\"},{\"Product\":9991846,\"Description\":\"SHREDDER HSM P36 4 5X30\",\"Predicted Category\":\"Document Shredders\"},{\"Product\":9991847,\"Description\":\"SHREDDER HSM P36 - 5 8\",\"Predicted Category\":\"Document Shredders\"},{\"Product\":197786,\"Description\":\"Basic Solutions Open Bookcase with 1 Adjustable Shelf Beech 740mm\",\"Predicted Category\":\"Bookcases\"},{\"Product\":15284071,\"Description\":\"Spine Connector. mesa straight rail rigid 5.5 x 500mm ti\",\"Predicted Category\":\"Standard\"},{\"Product\":7249666,\"Description\":\"Oki Drum Cyan Oki For for a C810\\\\/830\",\"Predicted Category\":\"Printing Machine Drums\"},{\"Product\":7249667,\"Description\":\"Oki Drum Magenta 20K for a C810\\\\/830\",\"Predicted Category\":\"Printing Machine Drums\"},{\"Product\":7249668,\"Description\":\"Paper Tyger Pocket Envelopes 324 x 229mm Pack of 20\",\"Predicted Category\":\"Envelopes\"},{\"Product\":7249669,\"Description\":\"Paper Tyger Pocket Envelopes 353 x 250mm Pack of 100\",\"Predicted Category\":\"Envelopes\"},{\"Product\":9991856,\"Description\":\"PK50 ENVELOPES E4 (394X305MM) PAPERTYGER\",\"Predicted Category\":\"Envelopes\"},{\"Product\":7249670,\"Description\":\"Paper Tyger Pocket Envelopes 394 x 305mm Pack of 10\",\"Predicted Category\":\"Envelopes\"},{\"Product\":7249671,\"Description\":\"Paper Tyger Gusset Envelopes 324 x 229 x 38mm Pack of 50\",\"Predicted Category\":\"Envelopes\"},{\"Product\":7249672,\"Description\":\"Paper Tyger Gusset Envelopes 324 x 229 x 38mm Pack of 10\",\"Predicted Category\":\"Envelopes\"},{\"Product\":7249726,\"Description\":\"A2010 Rectangular Table White 1800W mm\",\"Predicted Category\":\"Tables\"},{\"Product\":7249727,\"Description\":\"Radial Workstation White A2010 Right Hand 1600mm\",\"Predicted Category\":\"Desks and Workstations\"},{\"Product\":7249728,\"Description\":\"Radial Workstation White A2010 Right Hand 1800mm\",\"Predicted Category\":\"Desks and Workstations\"},{\"Product\":7249729,\"Description\":\"A2010 Semi Circular Table White 1600mm\",\"Predicted Category\":\"Tables\"},{\"Product\":7249730,\"Description\":\"A2010 Circular Table White 850mm\",\"Predicted Category\":\"Tables\"},{\"Product\":7249731,\"Description\":\"Radial Desk White A2010 1600 x 1600mm\",\"Predicted Category\":\"Desks and Workstations\"},{\"Product\":7249732,\"Description\":\"A2010 Wave Desk White Left Hand 1400mm\",\"Predicted Category\":\"Desks and Workstations\"},{\"Product\":7249733,\"Description\":\"A2010 Circular Table White 1200mm 725H x 1200D mm\",\"Predicted Category\":\"Tables\"}]'"
      ]
     },
     "execution_count": 19,
     "metadata": {},
     "output_type": "execute_result"
    }
   ],
   "source": [
    "data.to_json(orient='records')"
   ]
  }
 ],
 "metadata": {
  "kernelspec": {
   "display_name": "Python 3",
   "language": "python",
   "name": "python3"
  },
  "language_info": {
   "codemirror_mode": {
    "name": "ipython",
    "version": 3
   },
   "file_extension": ".py",
   "mimetype": "text/x-python",
   "name": "python",
   "nbconvert_exporter": "python",
   "pygments_lexer": "ipython3",
   "version": "3.6.5"
  }
 },
 "nbformat": 4,
 "nbformat_minor": 2
}
